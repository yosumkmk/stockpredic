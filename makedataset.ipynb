{
 "cells": [
  {
   "cell_type": "code",
   "execution_count": 1,
   "metadata": {
    "collapsed": true
   },
   "outputs": [],
   "source": [
    "from numba import jit\n",
    "import numpy as np\n",
    "import time\n",
    "import os\n",
    "import glob\n",
    "from sys import getsizeof\n",
    "import pandas as pd\n",
    "from mem import *\n",
    "import copy"
   ]
  },
  {
   "cell_type": "code",
   "execution_count": 2,
   "metadata": {
    "collapsed": true
   },
   "outputs": [],
   "source": [
    "from mymodules import *"
   ]
  },
  {
   "cell_type": "code",
   "execution_count": null,
   "metadata": {
    "collapsed": true
   },
   "outputs": [
    {
     "name": "stdout",
     "output_type": "stream",
     "text": [
      "./stdata/stdata1997.npy : 5.058912038803101\n",
      "./stdata/stdata1998.npy : 4.662067890167236\n",
      "./stdata/stdata1999.npy : 4.958720922470093\n",
      "./stdata/stdata2000.npy : 5.05747389793396\n",
      "./stdata/stdata2001.npy : 5.96628212928772\n",
      "./stdata/stdata2002.npy : 6.601095914840698\n",
      "./stdata/stdata2003.npy : 7.069071054458618\n",
      "./stdata/stdata2004.npy : 6.939129114151001\n"
     ]
    }
   ],
   "source": [
    "#作成データ\n",
    "#stc->過去３０日間に終値が移動平均１００より大き日が２０日以上存在する\n",
    "#RSI[14]\n",
    "#a：安値＞ボリンジャー、bで指値価格変更->ボリンジャー[14]\n",
    "#RSIとボリンジャーは複数用意するか\n",
    "#ボリンジャーと安値の関係で指値価格変えることできるか\n",
    "years=list(map(str,list(range(1996,2019))))#2019\n",
    "#stdataのaxis=1のインデックスを作る\n",
    "datatime={}\n",
    "indexdict={'code':0,'exchange':1,'volume':2,'open':3,'high':4,'low':5,'close':6}\n",
    "stindex=pd.Series(['code','exchange','volume','open','high','low','close'])\n",
    "name=glob.glob('./stdata/*.npy')[0]\n",
    "year=os.path.splitext(os.path.split(name)[-1])[0][-4::]\n",
    "datatime[year],stdata=np.split(np.load(name),[1],axis=1)\n",
    "pdtime=pd.Series(datatime[year][1001,0,:])\n",
    "stdata=stdata.astype(np.float32)\n",
    "\n",
    "for name in glob.glob('./stdata/*.npy')[1::]:\n",
    "    starttime=time.time()\n",
    "    year=os.path.splitext(os.path.split(name)[-1])[0][-4::]\n",
    "    datatime[year],stdata1=np.split(np.load(name),[1],axis=1)\n",
    "    pdtime=pdtime.append(pd.Series(datatime[year][1001,0,:]),ignore_index=True)\n",
    "    stdata1=stdata1.astype(np.float32)\n",
    "    stdata=np.concatenate([stdata,stdata1],axis=2)\n",
    "    endtime=time.time()-starttime\n",
    "    print(name,':',endtime)\n",
    "stdata=np.transpose(stdata,[2,1,0])\n",
    "stdata[np.isnan(stdata)]=0"
   ]
  },
  {
   "cell_type": "code",
   "execution_count": 4,
   "metadata": {
    "collapsed": false
   },
   "outputs": [],
   "source": [
    "stdata=np.load('./stdata1/stdata.npy')"
   ]
  },
  {
   "cell_type": "code",
   "execution_count": 5,
   "metadata": {
    "collapsed": true
   },
   "outputs": [],
   "source": [
    "#指標の期間\n",
    "periods=[7,15,30,60,120,240]"
   ]
  },
  {
   "cell_type": "code",
   "execution_count": 25,
   "metadata": {
    "collapsed": false
   },
   "outputs": [
    {
     "name": "stdout",
     "output_type": "stream",
     "text": [
      "CPU times: user 28.1 s, sys: 15.5 s, total: 43.6 s\n",
      "Wall time: 49.6 s\n"
     ]
    }
   ],
   "source": [
    "%%time\n",
    "#double ->f8 == float64\n",
    "stRSI=RSI(stdata[:,6,:].astype('f8'),periods)\n",
    "#5桁くらいの表示　０〜１００の指標はこれで大丈夫\n",
    "stRSI=stRSI.astype(np.float16)\n",
    "np.save('./stdata1/stRSI.npy',stRSI)"
   ]
  },
  {
   "cell_type": "code",
   "execution_count": 9,
   "metadata": {
    "collapsed": false
   },
   "outputs": [
    {
     "name": "stdout",
     "output_type": "stream",
     "text": [
      "CPU times: user 1min 11s, sys: 16.3 s, total: 1min 27s\n",
      "Wall time: 1min 50s\n"
     ]
    }
   ],
   "source": [
    "%%time\n",
    "#BBand,ave\n",
    "Bup,Bave,Blow=bbandy(stdata[:,6,:].astype('f8'),periods,3)"
   ]
  },
  {
   "cell_type": "code",
   "execution_count": 16,
   "metadata": {
    "collapsed": false
   },
   "outputs": [],
   "source": [
    "Bup=Bup.astype(np.float32)\n",
    "Bave=Bave.astype(np.float32)\n",
    "Blow=Blow.astype(np.float32)"
   ]
  },
  {
   "cell_type": "code",
   "execution_count": 18,
   "metadata": {
    "collapsed": false
   },
   "outputs": [],
   "source": [
    "np.save('./stdata1/Bup.npy',Bup)\n",
    "np.save('./stdata1/Blow.npy',Blow)\n",
    "np.save('./stdata1/Bave.npy',Bave)"
   ]
  },
  {
   "cell_type": "code",
   "execution_count": null,
   "metadata": {
    "collapsed": true
   },
   "outputs": [],
   "source": [
    "del stRSI"
   ]
  },
  {
   "cell_type": "code",
   "execution_count": null,
   "metadata": {
    "collapsed": true
   },
   "outputs": [],
   "source": []
  },
  {
   "cell_type": "code",
   "execution_count": 18,
   "metadata": {
    "collapsed": false
   },
   "outputs": [],
   "source": [
    "#5桁くらいの表示　０〜１００の指標はこれで大丈夫\n",
    "stRSI=stRSI.astype(np.float16)"
   ]
  },
  {
   "cell_type": "code",
   "execution_count": 19,
   "metadata": {
    "collapsed": false
   },
   "outputs": [
    {
     "data": {
      "text/plain": [
       "array([ 54.125  ,  46.15625,  57.21875,  46.15625,  52.28125,  51.1875 ,\n",
       "        43.875  ,  46.25   ,  53.84375,  57.625  ,  53.90625,  54.75   ,\n",
       "        81.     ,  82.4375 ,  90.6875 ,  37.5    ,  41.3125 ,  45.84375,\n",
       "        55.15625,  60.5625 ,  52.28125,  36.59375,  35.75   ,  54.40625,\n",
       "        42.65625,  53.90625,  41.21875,  45.15625,  66.875  ,  37.5    ,\n",
       "        42.46875,  41.96875,  55.46875,  38.71875,  71.125  ,  84.125  ,\n",
       "        40.40625,  46.09375,  46.0625 ,  31.65625,  52.8125 ,  61.6875 ,\n",
       "        57.84375,  43.9375 ,  72.6875 ,  65.1875 ,  36.03125,  59.90625,\n",
       "         0.     ,   0.     ], dtype=float16)"
      ]
     },
     "execution_count": 19,
     "metadata": {},
     "output_type": "execute_result"
    }
   ],
   "source": [
    "stRSI[1001,0,-50::]"
   ]
  },
  {
   "cell_type": "code",
   "execution_count": 20,
   "metadata": {
    "collapsed": false
   },
   "outputs": [
    {
     "data": {
      "text/plain": [
       "651.120128"
      ]
     },
     "execution_count": 20,
     "metadata": {},
     "output_type": "execute_result"
    }
   ],
   "source": [
    "getsizeof(stRSI)/1000000"
   ]
  },
  {
   "cell_type": "code",
   "execution_count": 4,
   "metadata": {
    "collapsed": true
   },
   "outputs": [],
   "source": [
    "stdatas={}"
   ]
  },
  {
   "cell_type": "code",
   "execution_count": 5,
   "metadata": {
    "collapsed": false
   },
   "outputs": [],
   "source": [
    "for i in range(len(stindex)):\n",
    "    stdatas[stindex[i]]=stdata[:,i,:]"
   ]
  },
  {
   "cell_type": "code",
   "execution_count": 53,
   "metadata": {
    "collapsed": true
   },
   "outputs": [],
   "source": [
    "np.save('stdatas.npy',stdatas)"
   ]
  },
  {
   "cell_type": "code",
   "execution_count": 3,
   "metadata": {
    "collapsed": true
   },
   "outputs": [],
   "source": [
    "stdatas=np.load('stdatas.npy')"
   ]
  },
  {
   "cell_type": "code",
   "execution_count": 6,
   "metadata": {
    "collapsed": false
   },
   "outputs": [
    {
     "data": {
      "text/plain": [
       "dict"
      ]
     },
     "execution_count": 6,
     "metadata": {},
     "output_type": "execute_result"
    }
   ],
   "source": [
    "type(stdatas)"
   ]
  },
  {
   "cell_type": "code",
   "execution_count": null,
   "metadata": {
    "collapsed": true
   },
   "outputs": [],
   "source": []
  },
  {
   "cell_type": "code",
   "execution_count": null,
   "metadata": {
    "collapsed": true
   },
   "outputs": [],
   "source": []
  },
  {
   "cell_type": "code",
   "execution_count": null,
   "metadata": {
    "collapsed": true
   },
   "outputs": [],
   "source": []
  },
  {
   "cell_type": "code",
   "execution_count": 19,
   "metadata": {
    "collapsed": false
   },
   "outputs": [],
   "source": [
    "stdata=np.transpose(stdata,[2,1,0])"
   ]
  },
  {
   "cell_type": "code",
   "execution_count": 34,
   "metadata": {
    "collapsed": false
   },
   "outputs": [
    {
     "data": {
      "text/plain": [
       "(5426, 7, 10000)"
      ]
     },
     "execution_count": 34,
     "metadata": {},
     "output_type": "execute_result"
    }
   ],
   "source": [
    "stdata.shape"
   ]
  },
  {
   "cell_type": "code",
   "execution_count": null,
   "metadata": {
    "collapsed": true
   },
   "outputs": [],
   "source": [
    "%%time\n",
    "stockrange=np.array([0,100,200,500,700,1000,1500,2000,3000,5000,7000,10000,15000,20000,30000,50000,70000,100000,150000,200000,300000,500000,700000,1000000,1500000,2000000,3000000,5000000,7000000,10000000,15000000,20000000,30000000,50000000,9999000000000])\n",
    "stoprange=np.array([0,30,50,80,100,150,300,400,500,700,1000,1500,3000,4000,5000,7000,10000,15000,30000,40000,50000,70000,100000,150000,300000,400000,500000,700000,1000000,1500000,3000000,4000000,5000000,7000000,10000000]) \n",
    "stockranges=np.tile(n101(stockrange),(stdaf.shape[0],1,codes))\n",
    "stopranges=np.tile(n101(stoprange),(stdaf.shape[0],1,codes))"
   ]
  },
  {
   "cell_type": "code",
   "execution_count": null,
   "metadata": {
    "collapsed": true
   },
   "outputs": [],
   "source": [
    "%%time\n",
    "stopH=stdaf[:,4,:]\n",
    "stopL=stdaf[:,4,:]\n",
    "for sr in range(len(stockrange)-1):\n",
    "    stopH=np.where((stdaf[:,4,:]<stockranges[:,sr+1,:])&\n",
    "                   (stdaf[:,4,:]>stockranges[:,sr,:])\n",
    "                      ,stopH+stopranges[:,sr+1,:],stopH)\n",
    "    stopL=np.where((stdaf[:,4,:]<stockranges[:,sr+1,:])&\n",
    "                   (stdaf[:,4,:]>stockranges[:,sr,:])\n",
    "                      ,stopL-stopranges[:,sr+1,:],stopL)\n",
    "stopH=stopH[:,np.newaxis,:]\n",
    "stopL=stopL[:,np.newaxis,:]\n",
    "stopH1p=np.roll(stopH,1,axis=0)\n",
    "stopL1p=np.roll(stopL,1,axis=0)"
   ]
  },
  {
   "cell_type": "code",
   "execution_count": null,
   "metadata": {
    "collapsed": true
   },
   "outputs": [],
   "source": []
  },
  {
   "cell_type": "code",
   "execution_count": null,
   "metadata": {
    "collapsed": true
   },
   "outputs": [],
   "source": []
  },
  {
   "cell_type": "code",
   "execution_count": null,
   "metadata": {
    "collapsed": true
   },
   "outputs": [],
   "source": []
  },
  {
   "cell_type": "code",
   "execution_count": null,
   "metadata": {
    "collapsed": true
   },
   "outputs": [],
   "source": []
  },
  {
   "cell_type": "code",
   "execution_count": null,
   "metadata": {
    "collapsed": true
   },
   "outputs": [],
   "source": []
  },
  {
   "cell_type": "code",
   "execution_count": null,
   "metadata": {
    "collapsed": true
   },
   "outputs": [],
   "source": []
  },
  {
   "cell_type": "code",
   "execution_count": null,
   "metadata": {
    "collapsed": true
   },
   "outputs": [],
   "source": []
  },
  {
   "cell_type": "code",
   "execution_count": null,
   "metadata": {
    "collapsed": true
   },
   "outputs": [],
   "source": []
  },
  {
   "cell_type": "code",
   "execution_count": 24,
   "metadata": {
    "collapsed": true
   },
   "outputs": [
    {
     "data": {
      "text/plain": [
       "0         1996/1/4\n",
       "1         1996/1/5\n",
       "2         1996/1/8\n",
       "3         1996/1/9\n",
       "4        1996/1/10\n",
       "5        1996/1/11\n",
       "6        1996/1/12\n",
       "7        1996/1/16\n",
       "8        1996/1/17\n",
       "9        1996/1/18\n",
       "10       1996/1/19\n",
       "11       1996/1/22\n",
       "12       1996/1/23\n",
       "13       1996/1/24\n",
       "14       1996/1/25\n",
       "15       1996/1/26\n",
       "16       1996/1/29\n",
       "17       1996/1/30\n",
       "18       1996/1/31\n",
       "19        1996/2/1\n",
       "20        1996/2/2\n",
       "21        1996/2/5\n",
       "22        1996/2/6\n",
       "23        1996/2/7\n",
       "24        1996/2/8\n",
       "25        1996/2/9\n",
       "26       1996/2/13\n",
       "27       1996/2/14\n",
       "28       1996/2/15\n",
       "29       1996/2/16\n",
       "           ...    \n",
       "5396    2017/12/18\n",
       "5397    2017/12/19\n",
       "5398    2017/12/20\n",
       "5399    2017/12/21\n",
       "5400    2017/12/22\n",
       "5401    2017/12/25\n",
       "5402    2017/12/26\n",
       "5403    2017/12/27\n",
       "5404    2017/12/28\n",
       "5405    2017/12/29\n",
       "5406      2018/1/4\n",
       "5407      2018/1/5\n",
       "5408      2018/1/9\n",
       "5409     2018/1/10\n",
       "5410     2018/1/11\n",
       "5411     2018/1/12\n",
       "5412     2018/1/15\n",
       "5413     2018/1/16\n",
       "5414     2018/1/17\n",
       "5415     2018/1/18\n",
       "5416     2018/1/19\n",
       "5417     2018/1/22\n",
       "5418     2018/1/23\n",
       "5419     2018/1/24\n",
       "5420     2018/1/25\n",
       "5421     2018/1/26\n",
       "5422     2018/1/29\n",
       "5423     2018/1/30\n",
       "5424     2018/1/31\n",
       "5425      2018/2/1\n",
       "dtype: object"
      ]
     },
     "execution_count": 24,
     "metadata": {},
     "output_type": "execute_result"
    }
   ],
   "source": [
    "pdtime"
   ]
  },
  {
   "cell_type": "code",
   "execution_count": 25,
   "metadata": {
    "collapsed": true
   },
   "outputs": [],
   "source": [
    "a=np.random.rand(3,3,3)\n",
    "b=np.random.rand(3,3,3)"
   ]
  },
  {
   "cell_type": "code",
   "execution_count": 27,
   "metadata": {
    "collapsed": false
   },
   "outputs": [
    {
     "name": "stdout",
     "output_type": "stream",
     "text": [
      "The slowest run took 1752.12 times longer than the fastest. This could mean that an intermediate result is being cached.\n",
      "1000000 loops, best of 3: 1.07 µs per loop\n"
     ]
    }
   ],
   "source": [
    "%%timeit\n",
    "a*b"
   ]
  },
  {
   "cell_type": "code",
   "execution_count": 11,
   "metadata": {
    "collapsed": false
   },
   "outputs": [
    {
     "data": {
      "text/plain": [
       "1519.280128"
      ]
     },
     "execution_count": 11,
     "metadata": {},
     "output_type": "execute_result"
    }
   ],
   "source": [
    "getsizeof(stdata)/1000000"
   ]
  },
  {
   "cell_type": "code",
   "execution_count": 6,
   "metadata": {
    "collapsed": false
   },
   "outputs": [
    {
     "data": {
      "text/plain": [
       "(10000, 1, 247)"
      ]
     },
     "execution_count": 6,
     "metadata": {},
     "output_type": "execute_result"
    }
   ],
   "source": [
    "datatime[year][1001,0,].shape"
   ]
  },
  {
   "cell_type": "code",
   "execution_count": 7,
   "metadata": {
    "collapsed": false
   },
   "outputs": [],
   "source": [
    "c=pd.Series(datatime[year][1001,0,:])"
   ]
  },
  {
   "cell_type": "code",
   "execution_count": 9,
   "metadata": {
    "collapsed": false
   },
   "outputs": [
    {
     "data": {
      "text/plain": [
       "0    1\n",
       "1    0\n",
       "2    1\n",
       "3    2\n",
       "dtype: int64"
      ]
     },
     "execution_count": 9,
     "metadata": {},
     "output_type": "execute_result"
    }
   ],
   "source": [
    "a=pd.Series([1])\n",
    "a.append(pd.Series([0,1,2]),ignore_index=True)"
   ]
  },
  {
   "cell_type": "code",
   "execution_count": 2,
   "metadata": {
    "collapsed": true
   },
   "outputs": [
    {
     "name": "stdout",
     "output_type": "stream",
     "text": [
      "./stdata/stdata1996.npy : 2.7835679054260254\n",
      "./stdata/stdata1997.npy : 3.101583957672119\n",
      "./stdata/stdata1998.npy : 4.315847158432007\n",
      "./stdata/stdata1999.npy : 4.179213047027588\n",
      "./stdata/stdata2000.npy : 4.313995122909546\n",
      "./stdata/stdata2001.npy : 4.194653034210205\n",
      "./stdata/stdata2002.npy : 5.266273021697998\n",
      "./stdata/stdata2003.npy : 9.730456829071045\n",
      "./stdata/stdata2004.npy : 9.038580894470215\n",
      "./stdata/stdata2005.npy : 10.578870058059692\n",
      "./stdata/stdata2006.npy : 6.756126880645752\n",
      "./stdata/stdata2007.npy : 4.884593963623047\n",
      "./stdata/stdata2008.npy : 5.218302965164185\n",
      "./stdata/stdata2009.npy : 5.538614988327026\n",
      "./stdata/stdata2010.npy : 5.345909118652344\n",
      "./stdata/stdata2011.npy : 8.711882829666138\n",
      "./stdata/stdata2012.npy : 6.79465389251709\n",
      "./stdata/stdata2013.npy : 9.661933898925781\n",
      "./stdata/stdata2014.npy : 11.696789026260376\n",
      "./stdata/stdata2015.npy : 11.959646940231323\n",
      "./stdata/stdata2016.npy : 9.995668888092041\n",
      "./stdata/stdata2017.npy : 9.009958982467651\n",
      "./stdata/stdata2018.npy : 0.5743131637573242\n"
     ]
    }
   ],
   "source": [
    "#作成データ\n",
    "#stc->過去３０日間に終値が移動平均１００より大き日が２０日以上存在する\n",
    "#RSI[14]\n",
    "#a：安値＞ボリンジャー、bで指値価格変更->ボリンジャー[14]\n",
    "#RSIとボリンジャーは複数用意するか\n",
    "#ボリンジャーと安値の関係で指値価格変えることできるか\n",
    "years=list(map(str,list(range(1996,2019))))#2019\n",
    "stdata={}\n",
    "datatime={}\n",
    "#stdataのaxis=1のインデックスを作る\n",
    "stindex=pd.Series(['code','exchange','volume','open','high','low','close'])\n",
    "\n",
    "for name in glob.glob('./stdata/*.npy'):\n",
    "    starttime=time.time()\n",
    "    year=os.path.splitext(os.path.split(name)[-1])[0][-4::]\n",
    "    datatime[year],stdata[year]=np.split(np.load(name),[1],axis=1)\n",
    "    stdata[year]=stdata[year].astype(np.float32)\n",
    "    endtime=time.time()-starttime\n",
    "    print(name,':',endtime)\n"
   ]
  },
  {
   "cell_type": "code",
   "execution_count": null,
   "metadata": {
    "collapsed": true
   },
   "outputs": [],
   "source": []
  },
  {
   "cell_type": "code",
   "execution_count": null,
   "metadata": {
    "collapsed": true
   },
   "outputs": [],
   "source": []
  },
  {
   "cell_type": "code",
   "execution_count": 6,
   "metadata": {
    "collapsed": false
   },
   "outputs": [],
   "source": [
    "def show_objects_size(threshold, unit=2):\n",
    "    \"\"\"\n",
    "    生きている全部の変数のサイズを表示する。\n",
    "    globals()を対象にしている為この関数をモジュール化してimportしても機能しない。\n",
    "    開発中の確認用に、同一モジュール内で実行すること。\n",
    "\n",
    "    Parameters\n",
    "    ----------\n",
    "    threshold : int, float\n",
    "        表示するサイズの下限しきい値。\n",
    "        unitに応じた値にすること。\n",
    "    unit : int\n",
    "        表示するサイズの単位\n",
    "        1: KB\n",
    "        2: MB\n",
    "        3: GB\n",
    "    ex.\n",
    "        100MB超の変数をGB単位で表示したい場合\n",
    "        threshold=0.1, unit=3\n",
    "\n",
    "    Returns\n",
    "    -------\n",
    "        なし\n",
    "    \"\"\"\n",
    "    disp_unit = {0: 'bites', 1: 'KB', 2: 'MB', 3: 'GB'}\n",
    "    # 処理中に変数が変動しないように固定\n",
    "    globals_copy = globals().copy()\n",
    "    for object_name in globals_copy.keys():\n",
    "        size = compute_object_size(eval(object_name))\n",
    "        if size > threshold:\n",
    "            print('{:<15}{:.3f} {}'.format(object_name, size, disp_unit[unit]))"
   ]
  },
  {
   "cell_type": "code",
   "execution_count": 30,
   "metadata": {
    "collapsed": false
   },
   "outputs": [
    {
     "name": "stdout",
     "output_type": "stream",
     "text": [
      "__builtins__   0.052 MB\n"
     ]
    }
   ],
   "source": []
  },
  {
   "cell_type": "code",
   "execution_count": 16,
   "metadata": {
    "collapsed": false
   },
   "outputs": [],
   "source": [
    "#作成データ\n",
    "#stc->過去３０日間に終値が移動平均１００より大き日が２０日以上存在する\n",
    "#RSI[14]\n",
    "#a：安値＞ボリンジャー、bで指値価格変更->ボリンジャー[14]\n",
    "#RSIとボリンジャーは複数用意するか\n",
    "#ボリンジャーと安値の関係で指値価格変えることできるか1\n",
    "name=glob.glob('./stdata/*.npy')\n",
    "data96=np.load(name[0])"
   ]
  },
  {
   "cell_type": "code",
   "execution_count": 17,
   "metadata": {
    "collapsed": true
   },
   "outputs": [],
   "source": [
    "#オブジェクト型からfloatに移行\n",
    "#０列目を他のオブジェクトに入れる\n",
    "#stdata(0>株式コード,1>取引所、２＞Volume,3>open,4>high,5>Low,6>close)\n",
    "datatime,stdata=np.split(data96,[1],axis=1)\n",
    "#datatimeを他の辞書として入れる→pd.Series\n",
    "datatime=pd.Series(datatime[1001,0,:])\n",
    "\n",
    "#16bitより32bitのが計算速度早い→最後にもう一度確認\n",
    "stdata=stdata.astype(np.float32)\n"
   ]
  },
  {
   "cell_type": "code",
   "execution_count": 36,
   "metadata": {
    "collapsed": false
   },
   "outputs": [
    {
     "ename": "NameError",
     "evalue": "name 'st' is not defined",
     "output_type": "error",
     "traceback": [
      "\u001b[0;31m---------------------------------------------------------------------------\u001b[0m",
      "\u001b[0;31mNameError\u001b[0m                                 Traceback (most recent call last)",
      "\u001b[0;32m<ipython-input-36-5b24e1fbd714>\u001b[0m in \u001b[0;36m<module>\u001b[0;34m()\u001b[0m\n\u001b[0;32m----> 1\u001b[0;31m \u001b[0mst\u001b[0m\u001b[0;34m[\u001b[0m\u001b[0;34m'a'\u001b[0m\u001b[0;34m]\u001b[0m\u001b[0;34m=\u001b[0m\u001b[0;36m18\u001b[0m\u001b[0;34m\u001b[0m\u001b[0m\n\u001b[0m",
      "\u001b[0;31mNameError\u001b[0m: name 'st' is not defined"
     ]
    }
   ],
   "source": []
  },
  {
   "cell_type": "code",
   "execution_count": null,
   "metadata": {
    "collapsed": true
   },
   "outputs": [],
   "source": []
  },
  {
   "cell_type": "code",
   "execution_count": null,
   "metadata": {
    "collapsed": true
   },
   "outputs": [],
   "source": []
  }
 ],
 "metadata": {
  "kernelspec": {
   "display_name": "Python 3",
   "language": "python",
   "name": "python3"
  },
  "language_info": {
   "codemirror_mode": {
    "name": "ipython",
    "version": 3
   },
   "file_extension": ".py",
   "mimetype": "text/x-python",
   "name": "python",
   "nbconvert_exporter": "python",
   "pygments_lexer": "ipython3",
   "version": "3.4.5"
  }
 },
 "nbformat": 4,
 "nbformat_minor": 2
}
