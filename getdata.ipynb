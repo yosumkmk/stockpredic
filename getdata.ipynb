{
 "cells": [
  {
   "cell_type": "code",
   "execution_count": 1,
   "metadata": {
    "collapsed": false
   },
   "outputs": [],
   "source": [
    "from time import sleep\n",
    "import requests\n",
    "from bs4 import BeautifulSoup\n",
    "import re\n",
    "import numpy as np\n",
    "import urllib\n",
    "import cchardet\n",
    "import zipfile\n",
    "import os\n"
   ]
  },
  {
   "cell_type": "code",
   "execution_count": 6,
   "metadata": {
    "collapsed": false
   },
   "outputs": [],
   "source": [
    "headers={'User-Agent':'Mozilla/5.0 (Macintosh; Intel Mac OS X 10_12_6) '}\n",
    "years=list(map(str,list(range(1996,2019))))\n",
    "years1=list(map(str,list(range(1996,2015))))\n",
    "years2=list(map(str,list(range(2015,2019))))\n",
    "dyurl={}\n",
    "ydlinks={}\n",
    "baseurl='http://souba-data.com/'\n",
    "\n",
    "for year in years:\n",
    "    if year in years1:\n",
    "        url='http://souba-data.com/k_data/'+year+'_data.htm'  \n",
    "    if year in years2:\n",
    "        url='http://souba-data.com/'+year+'_kako_calendar.htm'\n",
    "    sleep(2)\n",
    "    r=requests.get(url,timeout=1,headers=headers)\n",
    "    #エンコード\n",
    "    r.encoding=cchardet.detect(r.content)['encoding']\n",
    "    try:\n",
    "        soup=BeautifulSoup(r.text,'lxml')\n",
    "    except:\n",
    "        soup=BeautifulSoup(r.text,'html5lib')\n",
    "    soup=BeautifulSoup(r.text,'html.parser')\n",
    "    souptags=soup.find_all('a')\n",
    "    dlinks=[]\n",
    "    for souptag in souptags:\n",
    "        link=souptag.get('href')\n",
    "        if link != None:\n",
    "            if (('.zip' in link )or ('.lzh' in link)or ('.xlsx' in link)):\n",
    "                alink=urllib.parse.urljoin(baseurl,link)\n",
    "                dlinks.append(alink)\n",
    "    ydlinks[year]=dlinks"
   ]
  },
  {
   "cell_type": "code",
   "execution_count": 10,
   "metadata": {
    "collapsed": false
   },
   "outputs": [],
   "source": [
    "years=list(map(str,list(range(1996,2019))))\n",
    "rezip=re.compile('.*\\.zip')\n",
    "relzh=re.compile('.*\\.lzh')\n",
    "\n",
    "for year in years:\n",
    "    dlinks=ydlinks[year]\n",
    "    foldername=year+'data'\n",
    "    os.makedirs(foldername,exist_ok=True)\n",
    "    for dlink in dlinks:\n",
    "        filename=dlink.split('/')[-1]\n",
    "        if not os.path.isfile('./'+foldername+'/'+filename):\n",
    "            sleep(10)\n",
    "            for ttt in range(3):\n",
    "                try:\n",
    "                    file=requests.get(dlink,timeout=2,headers=headers)\n",
    "                except requests.ReadTimeout as e:\n",
    "                    sleep(64)\n",
    "                    print('timeout!')\n",
    "                else:\n",
    "                    if file.status_code==200:\n",
    "                        if not filename in os.listdir('./'+foldername):\n",
    "                            with open('./'+foldername+'/'+filename,'wb') as f:\n",
    "                                f.write(file.content)     \n",
    "                        break\n",
    "                    elif not file.status_code==404:\n",
    "                        print('retly',filename)\n",
    "                        sleep(64)\n",
    "\n"
   ]
  },
  {
   "cell_type": "code",
   "execution_count": null,
   "metadata": {
    "collapsed": true
   },
   "outputs": [],
   "source": []
  }
 ],
 "metadata": {
  "kernelspec": {
   "display_name": "Python 3",
   "language": "python",
   "name": "python3"
  },
  "language_info": {
   "codemirror_mode": {
    "name": "ipython",
    "version": 3
   },
   "file_extension": ".py",
   "mimetype": "text/x-python",
   "name": "python",
   "nbconvert_exporter": "python",
   "pygments_lexer": "ipython3",
   "version": "3.4.5"
  }
 },
 "nbformat": 4,
 "nbformat_minor": 2
}
